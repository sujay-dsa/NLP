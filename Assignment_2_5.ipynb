{
  "nbformat": 4,
  "nbformat_minor": 0,
  "metadata": {
    "colab": {
      "name": "Assignment_2.5.ipynb",
      "provenance": [],
      "collapsed_sections": [],
      "include_colab_link": true
    },
    "kernelspec": {
      "name": "python3",
      "display_name": "Python 3"
    },
    "language_info": {
      "name": "python"
    },
    "accelerator": "GPU"
  },
  "cells": [
    {
      "cell_type": "markdown",
      "metadata": {
        "id": "view-in-github",
        "colab_type": "text"
      },
      "source": [
        "<a href=\"https://colab.research.google.com/github/sujay-dsa/NLP/blob/main/Assignment_2_5.ipynb\" target=\"_parent\"><img src=\"https://colab.research.google.com/assets/colab-badge.svg\" alt=\"Open In Colab\"/></a>"
      ]
    },
    {
      "cell_type": "markdown",
      "metadata": {
        "id": "mevZ8iowmJww"
      },
      "source": [
        "# Network"
      ]
    },
    {
      "cell_type": "code",
      "metadata": {
        "id": "K8ug2YPwmHcy"
      },
      "source": [
        "import torch.nn as nn\n",
        "import torch.nn.functional as F\n",
        "import torch"
      ],
      "execution_count": null,
      "outputs": []
    },
    {
      "cell_type": "code",
      "metadata": {
        "id": "YnK_wtlXpL_U"
      },
      "source": [
        "\n",
        "class Network(nn.Module):\n",
        "  def __init__(self):\n",
        "    super().__init__()\n",
        "    self.conv1 = nn.Conv2d(in_channels=1, out_channels=6, kernel_size=5) \n",
        "    self.conv2 = nn.Conv2d(in_channels=6, out_channels=12, kernel_size=5)\n",
        "    self.fc1 = nn.Linear(in_features=12 * 4 * 4, out_features=120)\n",
        "    self.fc2 = nn.Linear(in_features=120, out_features=60)\n",
        "    self.out = nn.Linear(in_features=60, out_features=10)\n",
        "\n",
        "    self.fc3 = nn.Linear(in_features = 20, out_features = 30) # 20 inputs because 10 inputs from results of image prediction and 10 from random number encoded\n",
        "    self.out_final = nn.Linear(in_features=30, out_features=20) \n",
        "\n",
        "  def forward(self, t, intTensor):\n",
        "    # input layer\n",
        "    x = t\n",
        "    \n",
        "    # conv1 layer\n",
        "    x = self.conv1(x)\n",
        "    x = F.relu(x)\n",
        "    x = F.max_pool2d(x, kernel_size=2, stride=2) # 28 | 24 | 12\n",
        "    \n",
        "    \n",
        "    # conv2 layer\n",
        "    x = self.conv2(x)\n",
        "    x = F.relu(x)\n",
        "    x = F.max_pool2d(x, kernel_size=2, stride=2) # 12 | 8 | 4 >> 12x4x4\n",
        "\n",
        "    # reshapre\n",
        "    x = x.reshape(-1, 12 * 4 * 4)\n",
        "\n",
        "    # fc1 layer\n",
        "    x = self.fc1(x)\n",
        "    x = F.relu(x)\n",
        "\n",
        "    # fc2 layer\n",
        "    x = self.fc2(x)\n",
        "    x = F.relu(x)\n",
        "\n",
        "    # output layer of MNIST\n",
        "    x = self.out(x)\n",
        "    x = F.softmax(x, dim=1)\n",
        "    img_pred = x.clone()\n",
        "    \n",
        "    \n",
        "    \n",
        "    # fc3 layer\n",
        "    x = torch.cat((x, intTensor),1) # combine the random number tensor with the result of image prediction\n",
        "    x = self.fc3(x)\n",
        "    x = F.relu(x)\n",
        "\n",
        "    x = self.out_final(x) # this is the sum\n",
        "    x = F.softmax(x, dim=1)\n",
        "    # x = torch.cat((x, img_pred),1)\n",
        "    \n",
        "    return img_pred, x"
      ],
      "execution_count": null,
      "outputs": []
    },
    {
      "cell_type": "code",
      "metadata": {
        "colab": {
          "base_uri": "https://localhost:8080/"
        },
        "id": "mavLsWbPrIQo",
        "outputId": "5a15f7e9-3267-4984-f2e9-8f8304e0001d"
      },
      "source": [
        "torch.set_grad_enabled(False)"
      ],
      "execution_count": null,
      "outputs": [
        {
          "output_type": "execute_result",
          "data": {
            "text/plain": [
              "<torch.autograd.grad_mode.set_grad_enabled at 0x7f966090ea50>"
            ]
          },
          "metadata": {},
          "execution_count": 820
        }
      ]
    },
    {
      "cell_type": "code",
      "metadata": {
        "id": "7L2Wu9P_qKEj"
      },
      "source": [
        "import torchvision # provide access to datasets, models, transforms, utils, etc\n",
        "import torchvision.transforms as transforms"
      ],
      "execution_count": null,
      "outputs": []
    },
    {
      "cell_type": "code",
      "metadata": {
        "id": "52DKQ2XYqEfI"
      },
      "source": [
        "train_set = torchvision.datasets.FashionMNIST(\n",
        "    root='./data',\n",
        "    train=True,\n",
        "    download=True,\n",
        "    transform = transforms.Compose([\n",
        "          transforms.ToTensor()\n",
        "    ])\n",
        ")"
      ],
      "execution_count": null,
      "outputs": []
    },
    {
      "cell_type": "code",
      "metadata": {
        "colab": {
          "base_uri": "https://localhost:8080/"
        },
        "id": "Ztskg7l6rebx",
        "outputId": "9acf964e-06c5-475d-9453-6b890aa0de4d"
      },
      "source": [
        "randomNumberTensor = torch.randint(0,9, size=(60000,))\n",
        "randomNumberTensor,train_set.targets.shape"
      ],
      "execution_count": null,
      "outputs": [
        {
          "output_type": "execute_result",
          "data": {
            "text/plain": [
              "(tensor([6, 5, 1,  ..., 7, 6, 7]), torch.Size([60000]))"
            ]
          },
          "metadata": {},
          "execution_count": 823
        }
      ]
    },
    {
      "cell_type": "code",
      "metadata": {
        "colab": {
          "base_uri": "https://localhost:8080/"
        },
        "id": "yvslMfii-l8I",
        "outputId": "7523b358-80b7-4350-af15-ac5e1eee1322"
      },
      "source": [
        "bkup = train_set.targets.clone()\n",
        "train_set.targets, randomNumberTensor"
      ],
      "execution_count": null,
      "outputs": [
        {
          "output_type": "execute_result",
          "data": {
            "text/plain": [
              "(tensor([9, 0, 0,  ..., 3, 0, 5]), tensor([6, 5, 1,  ..., 7, 6, 7]))"
            ]
          },
          "metadata": {},
          "execution_count": 824
        }
      ]
    },
    {
      "cell_type": "code",
      "metadata": {
        "colab": {
          "base_uri": "https://localhost:8080/"
        },
        "id": "dPfX5Rvn5zxd",
        "outputId": "8ab3cf02-416c-42f1-8da1-c965495ef7a0"
      },
      "source": [
        "final_targets = train_set.targets + randomNumberTensor\n",
        "final_targets"
      ],
      "execution_count": null,
      "outputs": [
        {
          "output_type": "execute_result",
          "data": {
            "text/plain": [
              "tensor([15,  5,  1,  ..., 10,  6, 12])"
            ]
          },
          "metadata": {},
          "execution_count": 825
        }
      ]
    },
    {
      "cell_type": "code",
      "metadata": {
        "colab": {
          "base_uri": "https://localhost:8080/"
        },
        "id": "u-mJw4Enx7b1",
        "outputId": "7f82a0db-54ef-4655-96fe-54824036aece"
      },
      "source": [
        "randomOHE = F.one_hot(randomNumberTensor, num_classes=10)\n",
        "randomTargetsOHE = F.one_hot(final_targets, num_classes=20)\n",
        "randomNumberTensor[0],randomOHE[0]"
      ],
      "execution_count": null,
      "outputs": [
        {
          "output_type": "execute_result",
          "data": {
            "text/plain": [
              "(tensor(6), tensor([0, 0, 0, 0, 0, 0, 1, 0, 0, 0]))"
            ]
          },
          "metadata": {},
          "execution_count": 826
        }
      ]
    },
    {
      "cell_type": "code",
      "metadata": {
        "id": "m83_8BX3tfWs"
      },
      "source": [
        "from torch.utils.data import Dataset\n",
        "\n",
        "class myDataSet(Dataset):\n",
        "  def __init__(self, inputs, labels):\n",
        "    self.data = F.one_hot(inputs, num_classes=10)\n",
        "    self.targets = labels\n",
        "\n",
        "  def __getitem__(self, index):\n",
        "    encoding = self.data[index]\n",
        "    label = self.targets[index]\n",
        "    return encoding, label.item()\n",
        "\n",
        "  def __len__(self):\n",
        "    return len(self.data)"
      ],
      "execution_count": null,
      "outputs": []
    },
    {
      "cell_type": "code",
      "metadata": {
        "colab": {
          "base_uri": "https://localhost:8080/"
        },
        "id": "_dxbua3LwueC",
        "outputId": "aec2a985-b2c1-4c22-8495-ee41ad3d7074"
      },
      "source": [
        "myDS = myDataSet(randomNumberTensor, final_targets)\n",
        "x = iter(myDS)\n",
        "encoding, label = next(x)\n",
        "encoding.shape,encoding.unsqueeze(0).shape, label"
      ],
      "execution_count": null,
      "outputs": [
        {
          "output_type": "execute_result",
          "data": {
            "text/plain": [
              "(torch.Size([10]), torch.Size([1, 10]), 15)"
            ]
          },
          "metadata": {},
          "execution_count": 828
        }
      ]
    },
    {
      "cell_type": "code",
      "metadata": {
        "colab": {
          "base_uri": "https://localhost:8080/"
        },
        "id": "BrzVJPUrrNok",
        "outputId": "aa48e9be-d13e-4b86-ebb6-860d1eaeb448"
      },
      "source": [
        "sample = next(iter(train_set)) \n",
        "image, label = sample\n",
        "image.shape, image.unsqueeze(0).shape, label\n"
      ],
      "execution_count": null,
      "outputs": [
        {
          "output_type": "execute_result",
          "data": {
            "text/plain": [
              "(torch.Size([1, 28, 28]), torch.Size([1, 1, 28, 28]), 9)"
            ]
          },
          "metadata": {},
          "execution_count": 829
        }
      ]
    },
    {
      "cell_type": "code",
      "metadata": {
        "id": "_WyTKPD2Rz1S"
      },
      "source": [
        "network = Network() \n",
        "pred = network(image.unsqueeze(0), encoding.unsqueeze(0))"
      ],
      "execution_count": null,
      "outputs": []
    },
    {
      "cell_type": "code",
      "metadata": {
        "colab": {
          "base_uri": "https://localhost:8080/"
        },
        "id": "CuAeqkIurkuD",
        "outputId": "0b4cced5-bccd-4c08-d92e-8f3f28271348"
      },
      "source": [
        "pred, pred[0].shape, label"
      ],
      "execution_count": null,
      "outputs": [
        {
          "output_type": "execute_result",
          "data": {
            "text/plain": [
              "((tensor([[0.0905, 0.1009, 0.0963, 0.1110, 0.1101, 0.1105, 0.0961, 0.0941, 0.0997,\n",
              "           0.0908]]),\n",
              "  tensor([[0.0512, 0.0508, 0.0477, 0.0642, 0.0546, 0.0448, 0.0475, 0.0537, 0.0561,\n",
              "           0.0480, 0.0525, 0.0509, 0.0599, 0.0401, 0.0470, 0.0435, 0.0514, 0.0412,\n",
              "           0.0484, 0.0464]])),\n",
              " torch.Size([1, 10]),\n",
              " 9)"
            ]
          },
          "metadata": {},
          "execution_count": 831
        }
      ]
    },
    {
      "cell_type": "code",
      "metadata": {
        "colab": {
          "base_uri": "https://localhost:8080/"
        },
        "id": "g8I4oCthrmpL",
        "outputId": "694800d4-1706-49a6-9751-e57126c1a2c8"
      },
      "source": [
        "pred[0].argmax(dim=1),pred[1].argmax(dim=1), train_set.targets, randomNumberTensor"
      ],
      "execution_count": null,
      "outputs": [
        {
          "output_type": "execute_result",
          "data": {
            "text/plain": [
              "(tensor([3]),\n",
              " tensor([3]),\n",
              " tensor([9, 0, 0,  ..., 3, 0, 5]),\n",
              " tensor([6, 5, 1,  ..., 7, 6, 7]))"
            ]
          },
          "metadata": {},
          "execution_count": 832
        }
      ]
    },
    {
      "cell_type": "code",
      "metadata": {
        "colab": {
          "base_uri": "https://localhost:8080/"
        },
        "id": "cFcQ_dKUrt_0",
        "outputId": "31f07d4d-a28e-4f6f-85eb-c84177c66363"
      },
      "source": [
        "F.softmax(pred[0], dim=1)"
      ],
      "execution_count": null,
      "outputs": [
        {
          "output_type": "execute_result",
          "data": {
            "text/plain": [
              "tensor([[0.0991, 0.1001, 0.0996, 0.1011, 0.1010, 0.1011, 0.0996, 0.0994, 0.1000,\n",
              "         0.0991]])"
            ]
          },
          "metadata": {},
          "execution_count": 833
        }
      ]
    },
    {
      "cell_type": "code",
      "metadata": {
        "colab": {
          "base_uri": "https://localhost:8080/"
        },
        "id": "E9mzAGucryYr",
        "outputId": "c8e50d14-7814-4452-a588-4fc9fca7df86"
      },
      "source": [
        "F.softmax(pred[0], dim=1).sum()"
      ],
      "execution_count": null,
      "outputs": [
        {
          "output_type": "execute_result",
          "data": {
            "text/plain": [
              "tensor(1.)"
            ]
          },
          "metadata": {},
          "execution_count": 834
        }
      ]
    },
    {
      "cell_type": "code",
      "metadata": {
        "colab": {
          "base_uri": "https://localhost:8080/"
        },
        "id": "FrysQyzwkuw3",
        "outputId": "2c989769-63b1-43f5-e2a1-cc96274235b8"
      },
      "source": [
        "myDS, train_set"
      ],
      "execution_count": null,
      "outputs": [
        {
          "output_type": "execute_result",
          "data": {
            "text/plain": [
              "(<__main__.myDataSet at 0x7f9659a6fd50>, Dataset FashionMNIST\n",
              "     Number of datapoints: 60000\n",
              "     Root location: ./data\n",
              "     Split: Train\n",
              "     StandardTransform\n",
              " Transform: Compose(\n",
              "                ToTensor()\n",
              "            ))"
            ]
          },
          "metadata": {},
          "execution_count": 835
        }
      ]
    },
    {
      "cell_type": "code",
      "metadata": {
        "id": "nf4OcKXpaHh7",
        "colab": {
          "base_uri": "https://localhost:8080/"
        },
        "outputId": "873e5f68-73e3-4422-f595-4f7c3b54588a"
      },
      "source": [
        "train_set.data.shape, train_set.targets.shape"
      ],
      "execution_count": null,
      "outputs": [
        {
          "output_type": "execute_result",
          "data": {
            "text/plain": [
              "(torch.Size([60000, 28, 28]), torch.Size([60000]))"
            ]
          },
          "metadata": {},
          "execution_count": 836
        }
      ]
    },
    {
      "cell_type": "code",
      "metadata": {
        "id": "6T-OVA7anH-a"
      },
      "source": [
        "temp = train_set.targets.clone()\n",
        "temp = torch.stack((temp, myDS.targets),dim=1)"
      ],
      "execution_count": null,
      "outputs": []
    },
    {
      "cell_type": "code",
      "metadata": {
        "colab": {
          "base_uri": "https://localhost:8080/"
        },
        "id": "8_JrbVH1odQx",
        "outputId": "116d75df-938d-4b59-d6e0-e4b42619d7ea"
      },
      "source": [
        "temp.shape, train_set.targets[:10], randomNumberTensor[:10], temp[:10]"
      ],
      "execution_count": null,
      "outputs": [
        {
          "output_type": "execute_result",
          "data": {
            "text/plain": [
              "(torch.Size([60000, 2]),\n",
              " tensor([9, 0, 0, 3, 0, 2, 7, 2, 5, 5]),\n",
              " tensor([6, 5, 1, 6, 0, 1, 1, 6, 4, 8]),\n",
              " tensor([[ 9, 15],\n",
              "         [ 0,  5],\n",
              "         [ 0,  1],\n",
              "         [ 3,  9],\n",
              "         [ 0,  0],\n",
              "         [ 2,  3],\n",
              "         [ 7,  8],\n",
              "         [ 2,  8],\n",
              "         [ 5,  9],\n",
              "         [ 5, 13]]))"
            ]
          },
          "metadata": {},
          "execution_count": 838
        }
      ]
    },
    {
      "cell_type": "code",
      "metadata": {
        "colab": {
          "base_uri": "https://localhost:8080/"
        },
        "id": "fUlRRC2e4mKw",
        "outputId": "d0d5dde7-8fbb-4edd-ab20-3c2c724d400a"
      },
      "source": [
        "myDS.data[0,:], train_set.data[0].shape, train_set.targets[0], myDS.data[0], myDS.targets[0]"
      ],
      "execution_count": null,
      "outputs": [
        {
          "output_type": "execute_result",
          "data": {
            "text/plain": [
              "(tensor([0, 0, 0, 0, 0, 0, 1, 0, 0, 0]),\n",
              " torch.Size([28, 28]),\n",
              " tensor(9),\n",
              " tensor([0, 0, 0, 0, 0, 0, 1, 0, 0, 0]),\n",
              " tensor(15))"
            ]
          },
          "metadata": {},
          "execution_count": 839
        }
      ]
    },
    {
      "cell_type": "code",
      "metadata": {
        "colab": {
          "base_uri": "https://localhost:8080/"
        },
        "id": "T25O8wGmrql5",
        "outputId": "c87f3aea-89d4-46f9-e930-a981a4c150b2"
      },
      "source": [
        "class myCombinedDataSet(Dataset):\n",
        "  def __init__(self, imageDataSet, integerDataSet, transform=None):\n",
        "    self.imageInputs = imageDataSet.data\n",
        "    self.integerInputs = integerDataSet.data\n",
        "    self.imageDataSet = imageDataSet\n",
        "    self.integerDataSet = integerDataSet\n",
        "    self.transform = transform\n",
        "    print(len(self.imageInputs))\n",
        "\n",
        "  def __getitem__(self, index):\n",
        "    imageInput = self.imageInputs[index]\n",
        "    integerInput = self.integerInputs[index]\n",
        "    imageLabel = self.imageDataSet.targets[index]\n",
        "    sumLabel = self.integerDataSet.targets[index]\n",
        "    sample = {'imageInput':imageInput, 'integerInput': integerInput, 'imageLabel': imageLabel, 'sumLabel': sumLabel}\n",
        "    return sample\n",
        "\n",
        "  def __len__(self):\n",
        "    print(len(self.imageInputs))\n",
        "    return len(self.imageInputs)\n",
        "\n",
        "myCombinedDS = myCombinedDataSet(train_set, myDS)"
      ],
      "execution_count": null,
      "outputs": [
        {
          "output_type": "stream",
          "name": "stdout",
          "text": [
            "60000\n"
          ]
        }
      ]
    },
    {
      "cell_type": "code",
      "metadata": {
        "id": "X1ATL3nNr401",
        "colab": {
          "base_uri": "https://localhost:8080/"
        },
        "outputId": "f6b0d415-5046-4ae1-fd1a-a3ce4956afe3"
      },
      "source": [
        "data_loader = torch.utils.data.DataLoader(\n",
        "    myCombinedDS, \n",
        "    batch_size=10\n",
        "\n",
        ")\n",
        "\n",
        "train_set.targets"
      ],
      "execution_count": null,
      "outputs": [
        {
          "output_type": "execute_result",
          "data": {
            "text/plain": [
              "tensor([9, 0, 0,  ..., 3, 0, 5])"
            ]
          },
          "metadata": {},
          "execution_count": 841
        }
      ]
    },
    {
      "cell_type": "code",
      "metadata": {
        "colab": {
          "base_uri": "https://localhost:8080/"
        },
        "id": "b7p9d0QEr_0h",
        "outputId": "6a3bcc62-0256-4025-ad72-8933fac066ec"
      },
      "source": [
        "batch = next(iter(data_loader))\n",
        "batch['integerInput'], batch['sumLabel']"
      ],
      "execution_count": null,
      "outputs": [
        {
          "output_type": "stream",
          "name": "stdout",
          "text": [
            "60000\n"
          ]
        },
        {
          "output_type": "execute_result",
          "data": {
            "text/plain": [
              "(tensor([[0, 0, 0, 0, 0, 0, 1, 0, 0, 0],\n",
              "         [0, 0, 0, 0, 0, 1, 0, 0, 0, 0],\n",
              "         [0, 1, 0, 0, 0, 0, 0, 0, 0, 0],\n",
              "         [0, 0, 0, 0, 0, 0, 1, 0, 0, 0],\n",
              "         [1, 0, 0, 0, 0, 0, 0, 0, 0, 0],\n",
              "         [0, 1, 0, 0, 0, 0, 0, 0, 0, 0],\n",
              "         [0, 1, 0, 0, 0, 0, 0, 0, 0, 0],\n",
              "         [0, 0, 0, 0, 0, 0, 1, 0, 0, 0],\n",
              "         [0, 0, 0, 0, 1, 0, 0, 0, 0, 0],\n",
              "         [0, 0, 0, 0, 0, 0, 0, 0, 1, 0]]),\n",
              " tensor([15,  5,  1,  9,  0,  3,  8,  8,  9, 13]))"
            ]
          },
          "metadata": {},
          "execution_count": 842
        }
      ]
    },
    {
      "cell_type": "code",
      "metadata": {
        "colab": {
          "base_uri": "https://localhost:8080/"
        },
        "id": "7KiOh8TPA4-Y",
        "outputId": "8147437a-9b68-49f9-a30b-5b0b0a294708"
      },
      "source": [
        "batch['imageInput'].shape, batch['integerInput'].shape"
      ],
      "execution_count": null,
      "outputs": [
        {
          "output_type": "execute_result",
          "data": {
            "text/plain": [
              "(torch.Size([10, 28, 28]), torch.Size([10, 10]))"
            ]
          },
          "metadata": {},
          "execution_count": 843
        }
      ]
    },
    {
      "cell_type": "code",
      "metadata": {
        "colab": {
          "base_uri": "https://localhost:8080/"
        },
        "id": "SyfIk8pLg3BN",
        "outputId": "a3e83902-67ef-482d-cbb8-4d81f3f43e7c"
      },
      "source": [
        "batch['imageInput'].unsqueeze(1).shape, batch['integerInput'][0]"
      ],
      "execution_count": null,
      "outputs": [
        {
          "output_type": "execute_result",
          "data": {
            "text/plain": [
              "(torch.Size([10, 1, 28, 28]), tensor([0, 0, 0, 0, 0, 0, 1, 0, 0, 0]))"
            ]
          },
          "metadata": {},
          "execution_count": 844
        }
      ]
    },
    {
      "cell_type": "code",
      "metadata": {
        "id": "Vjb3E681jtrl"
      },
      "source": [
        "temp_data_loader = torch.utils.data.DataLoader(\n",
        "    train_set, \n",
        "    batch_size=10\n",
        ")\n",
        "batch1 = next(iter(temp_data_loader))"
      ],
      "execution_count": null,
      "outputs": []
    },
    {
      "cell_type": "code",
      "metadata": {
        "colab": {
          "base_uri": "https://localhost:8080/"
        },
        "id": "jet2VtePkDKe",
        "outputId": "526f292f-a0e8-4493-dc42-1ff537edea6b"
      },
      "source": [
        "images, labels = batch1\n",
        "images.shape, labels"
      ],
      "execution_count": null,
      "outputs": [
        {
          "output_type": "execute_result",
          "data": {
            "text/plain": [
              "(torch.Size([10, 1, 28, 28]), tensor([9, 0, 0, 3, 0, 2, 7, 2, 5, 5]))"
            ]
          },
          "metadata": {},
          "execution_count": 846
        }
      ]
    },
    {
      "cell_type": "code",
      "metadata": {
        "id": "yUvwlG2BjpMz"
      },
      "source": [
        "network = Network() \n",
        "pred = network(image.unsqueeze(0), encoding.unsqueeze(0))"
      ],
      "execution_count": null,
      "outputs": []
    },
    {
      "cell_type": "code",
      "metadata": {
        "colab": {
          "base_uri": "https://localhost:8080/"
        },
        "id": "ak0D6anBlZ88",
        "outputId": "7cdf490b-7ca4-4162-f5c2-5fe562c5ca7a"
      },
      "source": [
        "batch['integerInput'].shape,encoding.unsqueeze(0).shape,batch['integerInput']"
      ],
      "execution_count": null,
      "outputs": [
        {
          "output_type": "execute_result",
          "data": {
            "text/plain": [
              "(torch.Size([10, 10]),\n",
              " torch.Size([1, 10]),\n",
              " tensor([[0, 0, 0, 0, 0, 0, 1, 0, 0, 0],\n",
              "         [0, 0, 0, 0, 0, 1, 0, 0, 0, 0],\n",
              "         [0, 1, 0, 0, 0, 0, 0, 0, 0, 0],\n",
              "         [0, 0, 0, 0, 0, 0, 1, 0, 0, 0],\n",
              "         [1, 0, 0, 0, 0, 0, 0, 0, 0, 0],\n",
              "         [0, 1, 0, 0, 0, 0, 0, 0, 0, 0],\n",
              "         [0, 1, 0, 0, 0, 0, 0, 0, 0, 0],\n",
              "         [0, 0, 0, 0, 0, 0, 1, 0, 0, 0],\n",
              "         [0, 0, 0, 0, 1, 0, 0, 0, 0, 0],\n",
              "         [0, 0, 0, 0, 0, 0, 0, 0, 1, 0]]))"
            ]
          },
          "metadata": {},
          "execution_count": 848
        }
      ]
    },
    {
      "cell_type": "code",
      "metadata": {
        "colab": {
          "base_uri": "https://localhost:8080/"
        },
        "id": "D7qoPUkyIZHs",
        "outputId": "2d51b9ea-26f8-460f-8838-40eb2d6c44b9"
      },
      "source": [
        "torch.rand((10,28,28)).unsqueeze(1).shape,batch['imageInput'].unsqueeze(1).shape,  batch['integerInput'].reshape(10,-1).shape"
      ],
      "execution_count": null,
      "outputs": [
        {
          "output_type": "execute_result",
          "data": {
            "text/plain": [
              "(torch.Size([10, 1, 28, 28]),\n",
              " torch.Size([10, 1, 28, 28]),\n",
              " torch.Size([10, 10]))"
            ]
          },
          "metadata": {},
          "execution_count": 849
        }
      ]
    },
    {
      "cell_type": "code",
      "metadata": {
        "colab": {
          "base_uri": "https://localhost:8080/"
        },
        "id": "M75sRqWDIp87",
        "outputId": "b6c5e1ed-8a55-4dbe-b6a8-546902dc8bff"
      },
      "source": [
        "network = Network() \n",
        "preds = network(torch.rand((10,28,28)).unsqueeze(1), batch['integerInput'].reshape(10,-1))\n",
        "batch['imageInput'].shape, batch['imageInput'].float().dtype, torch.rand((10,28,28)).unsqueeze(1).dtype"
      ],
      "execution_count": null,
      "outputs": [
        {
          "output_type": "execute_result",
          "data": {
            "text/plain": [
              "(torch.Size([10, 28, 28]), torch.float32, torch.float32)"
            ]
          },
          "metadata": {},
          "execution_count": 850
        }
      ]
    },
    {
      "cell_type": "code",
      "metadata": {
        "colab": {
          "base_uri": "https://localhost:8080/"
        },
        "id": "qd_32lC5sEHw",
        "outputId": "b38129e7-04cb-4a0a-ad22-18d801cf7dae"
      },
      "source": [
        "network = Network() \n",
        "preds = network(batch['imageInput'].unsqueeze(1).float(), batch['integerInput'].reshape(10,-1).float())\n",
        "preds[0].shape, preds[1].shape"
      ],
      "execution_count": null,
      "outputs": [
        {
          "output_type": "execute_result",
          "data": {
            "text/plain": [
              "(torch.Size([10, 10]), torch.Size([10, 20]))"
            ]
          },
          "metadata": {},
          "execution_count": 851
        }
      ]
    },
    {
      "cell_type": "code",
      "metadata": {
        "id": "CDaO68OMsQUP",
        "colab": {
          "base_uri": "https://localhost:8080/"
        },
        "outputId": "c1df2f30-4a74-45ff-e2c6-0be8628c74bf"
      },
      "source": [
        "preds[0].argmax(dim=1), preds[1].argmax(dim=1)"
      ],
      "execution_count": null,
      "outputs": [
        {
          "output_type": "execute_result",
          "data": {
            "text/plain": [
              "(tensor([3, 3, 3, 3, 3, 3, 3, 3, 3, 3]),\n",
              " tensor([15, 15, 15, 15, 15, 15, 15, 15, 15, 15]))"
            ]
          },
          "metadata": {},
          "execution_count": 852
        }
      ]
    },
    {
      "cell_type": "code",
      "metadata": {
        "id": "zuTswW5OsUYx",
        "colab": {
          "base_uri": "https://localhost:8080/"
        },
        "outputId": "709247ac-9e7e-41ae-809a-cd884e69372a"
      },
      "source": [
        "preds[0].argmax(dim=1).eq(batch['imageLabel']), preds[1].argmax(dim=1).eq(batch['sumLabel'])"
      ],
      "execution_count": null,
      "outputs": [
        {
          "output_type": "execute_result",
          "data": {
            "text/plain": [
              "(tensor([False, False, False,  True, False, False, False, False, False, False]),\n",
              " tensor([ True, False, False, False, False, False, False, False, False, False]))"
            ]
          },
          "metadata": {},
          "execution_count": 853
        }
      ]
    },
    {
      "cell_type": "code",
      "metadata": {
        "id": "MkAoo1TSsY_n"
      },
      "source": [
        "def get_num_correct(preds, imageLabels, sumLabels):\n",
        "  return preds[0].argmax(dim=1).eq(imageLabels), preds[1].argmax(dim=1).eq(sumLabels)"
      ],
      "execution_count": null,
      "outputs": []
    },
    {
      "cell_type": "code",
      "metadata": {
        "id": "7mPdMYMAsfzz",
        "colab": {
          "base_uri": "https://localhost:8080/"
        },
        "outputId": "e8415692-a043-446b-ef4b-f0242c1852d2"
      },
      "source": [
        "get_num_correct(preds, preds[0].argmax(dim=1).eq(batch['imageLabel']), preds[1].argmax(dim=1).eq(batch['sumLabel']))"
      ],
      "execution_count": null,
      "outputs": [
        {
          "output_type": "execute_result",
          "data": {
            "text/plain": [
              "(tensor([False, False, False, False, False, False, False, False, False, False]),\n",
              " tensor([False, False, False, False, False, False, False, False, False, False]))"
            ]
          },
          "metadata": {},
          "execution_count": 855
        }
      ]
    },
    {
      "cell_type": "code",
      "metadata": {
        "id": "o4FA7R14sgxn",
        "colab": {
          "base_uri": "https://localhost:8080/"
        },
        "outputId": "26394ca1-17ec-4bff-d2b1-863aaaf7e5ff"
      },
      "source": [
        "import torch.optim as optim\n",
        "\n",
        "torch.set_grad_enabled(True)"
      ],
      "execution_count": null,
      "outputs": [
        {
          "output_type": "execute_result",
          "data": {
            "text/plain": [
              "<torch.autograd.grad_mode.set_grad_enabled at 0x7f9659a78fd0>"
            ]
          },
          "metadata": {},
          "execution_count": 856
        }
      ]
    },
    {
      "cell_type": "code",
      "metadata": {
        "id": "BCv0o0Amsnsx",
        "colab": {
          "base_uri": "https://localhost:8080/"
        },
        "outputId": "75765b2b-bd71-4c58-8e0f-09c95fd816d6"
      },
      "source": [
        "preds = network(batch['imageInput'].unsqueeze(1).float(), batch['integerInput'].reshape(10,-1).float())\n",
        "loss_images = F.cross_entropy(preds[0], batch['imageLabel'])\n",
        "loss_sum = F.cross_entropy(preds[1], batch['sumLabel'])\n",
        "total_loss = loss_images + loss_sum\n",
        "total_loss.item()"
      ],
      "execution_count": null,
      "outputs": [
        {
          "output_type": "execute_result",
          "data": {
            "text/plain": [
              "5.345405578613281"
            ]
          },
          "metadata": {},
          "execution_count": 857
        }
      ]
    },
    {
      "cell_type": "code",
      "metadata": {
        "id": "1L4YXdens0ZO",
        "colab": {
          "base_uri": "https://localhost:8080/"
        },
        "outputId": "1b9f28cc-4760-4057-dae2-1bcdebf9715e"
      },
      "source": [
        "pred[0].shape, batch['imageLabel'], pred[1].shape, batch['sumLabel']"
      ],
      "execution_count": null,
      "outputs": [
        {
          "output_type": "execute_result",
          "data": {
            "text/plain": [
              "(torch.Size([1, 10]),\n",
              " tensor([9, 0, 0, 3, 0, 2, 7, 2, 5, 5]),\n",
              " torch.Size([1, 20]),\n",
              " tensor([15,  5,  1,  9,  0,  3,  8,  8,  9, 13]))"
            ]
          },
          "metadata": {},
          "execution_count": 858
        }
      ]
    },
    {
      "cell_type": "code",
      "metadata": {
        "id": "Ua8Bk2iLs4R8"
      },
      "source": [
        "total_loss.backward(retain_graph=True)"
      ],
      "execution_count": null,
      "outputs": []
    },
    {
      "cell_type": "code",
      "metadata": {
        "id": "3Sx8OLQ4s942",
        "colab": {
          "base_uri": "https://localhost:8080/"
        },
        "outputId": "46d8417f-d13e-4dd8-bf3d-b0b10d259b9f"
      },
      "source": [
        "print(network.conv1.weight.grad.shape)"
      ],
      "execution_count": null,
      "outputs": [
        {
          "output_type": "stream",
          "name": "stdout",
          "text": [
            "torch.Size([6, 1, 5, 5])\n"
          ]
        }
      ]
    },
    {
      "cell_type": "code",
      "metadata": {
        "id": "giKwqeVFtANj"
      },
      "source": [
        "optimizer = optim.Adam(network.parameters(), lr = 0.01)"
      ],
      "execution_count": null,
      "outputs": []
    },
    {
      "cell_type": "code",
      "metadata": {
        "id": "CsNRSp9BtObv",
        "colab": {
          "base_uri": "https://localhost:8080/"
        },
        "outputId": "1a42e930-fd0f-45ed-fac6-74838fce3aa8"
      },
      "source": [
        "total_loss.item(), get_num_correct(preds, batch['imageLabel'], batch['sumLabel'])"
      ],
      "execution_count": null,
      "outputs": [
        {
          "output_type": "execute_result",
          "data": {
            "text/plain": [
              "(5.345405578613281,\n",
              " (tensor([False, False, False,  True, False, False, False, False, False, False]),\n",
              "  tensor([ True, False, False, False, False, False, False, False, False, False])))"
            ]
          },
          "metadata": {},
          "execution_count": 862
        }
      ]
    },
    {
      "cell_type": "code",
      "metadata": {
        "id": "L2wlQvdKtagG"
      },
      "source": [
        "optimizer.step()"
      ],
      "execution_count": null,
      "outputs": []
    },
    {
      "cell_type": "code",
      "metadata": {
        "id": "wTc3OYqMtnry",
        "colab": {
          "base_uri": "https://localhost:8080/",
          "height": 370
        },
        "outputId": "853c401f-c01f-4a49-bf63-6a42f821e302"
      },
      "source": [
        "total_loss.backward(retain_graph=True)\n",
        "preds = network(batch['imageInput'].unsqueeze(1).float(), batch['integerInput'].reshape(10,-1).float())\n",
        "total_loss.item()"
      ],
      "execution_count": null,
      "outputs": [
        {
          "output_type": "error",
          "ename": "RuntimeError",
          "evalue": "ignored",
          "traceback": [
            "\u001b[0;31m---------------------------------------------------------------------------\u001b[0m",
            "\u001b[0;31mRuntimeError\u001b[0m                              Traceback (most recent call last)",
            "\u001b[0;32m<ipython-input-864-4939216c415d>\u001b[0m in \u001b[0;36m<module>\u001b[0;34m()\u001b[0m\n\u001b[0;32m----> 1\u001b[0;31m \u001b[0mtotal_loss\u001b[0m\u001b[0;34m.\u001b[0m\u001b[0mbackward\u001b[0m\u001b[0;34m(\u001b[0m\u001b[0mretain_graph\u001b[0m\u001b[0;34m=\u001b[0m\u001b[0;32mTrue\u001b[0m\u001b[0;34m)\u001b[0m\u001b[0;34m\u001b[0m\u001b[0;34m\u001b[0m\u001b[0m\n\u001b[0m\u001b[1;32m      2\u001b[0m \u001b[0mpreds\u001b[0m \u001b[0;34m=\u001b[0m \u001b[0mnetwork\u001b[0m\u001b[0;34m(\u001b[0m\u001b[0mbatch\u001b[0m\u001b[0;34m[\u001b[0m\u001b[0;34m'imageInput'\u001b[0m\u001b[0;34m]\u001b[0m\u001b[0;34m.\u001b[0m\u001b[0munsqueeze\u001b[0m\u001b[0;34m(\u001b[0m\u001b[0;36m1\u001b[0m\u001b[0;34m)\u001b[0m\u001b[0;34m.\u001b[0m\u001b[0mfloat\u001b[0m\u001b[0;34m(\u001b[0m\u001b[0;34m)\u001b[0m\u001b[0;34m,\u001b[0m \u001b[0mbatch\u001b[0m\u001b[0;34m[\u001b[0m\u001b[0;34m'integerInput'\u001b[0m\u001b[0;34m]\u001b[0m\u001b[0;34m.\u001b[0m\u001b[0mreshape\u001b[0m\u001b[0;34m(\u001b[0m\u001b[0;36m10\u001b[0m\u001b[0;34m,\u001b[0m\u001b[0;34m-\u001b[0m\u001b[0;36m1\u001b[0m\u001b[0;34m)\u001b[0m\u001b[0;34m.\u001b[0m\u001b[0mfloat\u001b[0m\u001b[0;34m(\u001b[0m\u001b[0;34m)\u001b[0m\u001b[0;34m)\u001b[0m\u001b[0;34m\u001b[0m\u001b[0;34m\u001b[0m\u001b[0m\n\u001b[1;32m      3\u001b[0m \u001b[0mtotal_loss\u001b[0m\u001b[0;34m.\u001b[0m\u001b[0mitem\u001b[0m\u001b[0;34m(\u001b[0m\u001b[0;34m)\u001b[0m\u001b[0;34m\u001b[0m\u001b[0;34m\u001b[0m\u001b[0m\n",
            "\u001b[0;32m/usr/local/lib/python3.7/dist-packages/torch/_tensor.py\u001b[0m in \u001b[0;36mbackward\u001b[0;34m(self, gradient, retain_graph, create_graph, inputs)\u001b[0m\n\u001b[1;32m    253\u001b[0m                 \u001b[0mcreate_graph\u001b[0m\u001b[0;34m=\u001b[0m\u001b[0mcreate_graph\u001b[0m\u001b[0;34m,\u001b[0m\u001b[0;34m\u001b[0m\u001b[0;34m\u001b[0m\u001b[0m\n\u001b[1;32m    254\u001b[0m                 inputs=inputs)\n\u001b[0;32m--> 255\u001b[0;31m         \u001b[0mtorch\u001b[0m\u001b[0;34m.\u001b[0m\u001b[0mautograd\u001b[0m\u001b[0;34m.\u001b[0m\u001b[0mbackward\u001b[0m\u001b[0;34m(\u001b[0m\u001b[0mself\u001b[0m\u001b[0;34m,\u001b[0m \u001b[0mgradient\u001b[0m\u001b[0;34m,\u001b[0m \u001b[0mretain_graph\u001b[0m\u001b[0;34m,\u001b[0m \u001b[0mcreate_graph\u001b[0m\u001b[0;34m,\u001b[0m \u001b[0minputs\u001b[0m\u001b[0;34m=\u001b[0m\u001b[0minputs\u001b[0m\u001b[0;34m)\u001b[0m\u001b[0;34m\u001b[0m\u001b[0;34m\u001b[0m\u001b[0m\n\u001b[0m\u001b[1;32m    256\u001b[0m \u001b[0;34m\u001b[0m\u001b[0m\n\u001b[1;32m    257\u001b[0m     \u001b[0;32mdef\u001b[0m \u001b[0mregister_hook\u001b[0m\u001b[0;34m(\u001b[0m\u001b[0mself\u001b[0m\u001b[0;34m,\u001b[0m \u001b[0mhook\u001b[0m\u001b[0;34m)\u001b[0m\u001b[0;34m:\u001b[0m\u001b[0;34m\u001b[0m\u001b[0;34m\u001b[0m\u001b[0m\n",
            "\u001b[0;32m/usr/local/lib/python3.7/dist-packages/torch/autograd/__init__.py\u001b[0m in \u001b[0;36mbackward\u001b[0;34m(tensors, grad_tensors, retain_graph, create_graph, grad_variables, inputs)\u001b[0m\n\u001b[1;32m    147\u001b[0m     Variable._execution_engine.run_backward(\n\u001b[1;32m    148\u001b[0m         \u001b[0mtensors\u001b[0m\u001b[0;34m,\u001b[0m \u001b[0mgrad_tensors_\u001b[0m\u001b[0;34m,\u001b[0m \u001b[0mretain_graph\u001b[0m\u001b[0;34m,\u001b[0m \u001b[0mcreate_graph\u001b[0m\u001b[0;34m,\u001b[0m \u001b[0minputs\u001b[0m\u001b[0;34m,\u001b[0m\u001b[0;34m\u001b[0m\u001b[0;34m\u001b[0m\u001b[0m\n\u001b[0;32m--> 149\u001b[0;31m         allow_unreachable=True, accumulate_grad=True)  # allow_unreachable flag\n\u001b[0m\u001b[1;32m    150\u001b[0m \u001b[0;34m\u001b[0m\u001b[0m\n\u001b[1;32m    151\u001b[0m \u001b[0;34m\u001b[0m\u001b[0m\n",
            "\u001b[0;31mRuntimeError\u001b[0m: one of the variables needed for gradient computation has been modified by an inplace operation: [torch.FloatTensor [30, 20]], which is output 0 of TBackward, is at version 2; expected version 1 instead. Hint: enable anomaly detection to find the operation that failed to compute its gradient, with torch.autograd.set_detect_anomaly(True)."
          ]
        }
      ]
    },
    {
      "cell_type": "code",
      "metadata": {
        "id": "-zYOmiLWDZRt"
      },
      "source": [
        "total_loss.backward(retain_graph=True)\n",
        "preds = network(batch['imageInput'].unsqueeze(1).float(), batch['integerInput'].reshape(10,-1).float())\n",
        "total_loss.item()"
      ],
      "execution_count": null,
      "outputs": []
    },
    {
      "cell_type": "code",
      "metadata": {
        "id": "Zd8QqAgA-C04"
      },
      "source": [
        "batch['sumLabel']"
      ],
      "execution_count": null,
      "outputs": []
    },
    {
      "cell_type": "code",
      "metadata": {
        "id": "f5dwoC5uuE6X"
      },
      "source": [
        "network = Network()\n",
        "\n",
        "train_loader = torch.utils.data.DataLoader(train_set, batch_size=100)\n",
        "optimizer = optim.Adam(network.parameters(), lr=0.01)\n",
        "\n",
        "batch = next(iter(train_loader)) # Get Batch\n",
        "images, labels = batch\n",
        "\n",
        "ohe_batch_100 = randomOHE[:100]\n",
        "preds = network(images,ohe_batch_100) # Pass Batch\n",
        "loss = F.cross_entropy(preds, labels) # Calculate Loss\n",
        "\n",
        "loss.backward() # Calculate Gradients\n",
        "optimizer.step() # Update Weights\n",
        "\n",
        "print('loss1:', loss.item())\n",
        "preds = network(images,ohe_batch_100)\n",
        "loss = F.cross_entropy(preds, labels)\n",
        "print('loss2:', loss.item())"
      ],
      "execution_count": null,
      "outputs": []
    },
    {
      "cell_type": "code",
      "metadata": {
        "id": "EoYaS93qv2rP"
      },
      "source": [
        "torch.set_grad_enabled(False)\n",
        "torch.set_grad_enabled(True)"
      ],
      "execution_count": null,
      "outputs": []
    },
    {
      "cell_type": "code",
      "metadata": {
        "id": "Nh_tvQNisXPj"
      },
      "source": [
        "randomOHE[0:100,:].shape"
      ],
      "execution_count": null,
      "outputs": []
    },
    {
      "cell_type": "code",
      "metadata": {
        "id": "29_OqQ7WuV4o"
      },
      "source": [
        "network = Network()\n",
        "\n",
        "train_loader = torch.utils.data.DataLoader(train_set, batch_size=100)\n",
        "optimizer = optim.Adam(network.parameters(), lr=0.01)\n",
        "\n",
        "total_loss = 0\n",
        "total_correct = 0\n",
        "ohe_batch = 0\n",
        "\n",
        "for idx, batch in enumerate(train_loader): # Get Batch\n",
        "    images, labels = batch \n",
        "    \n",
        "    \n",
        "    preds = network(images, randomOHE[ohe_batch: (idx+1)*100,:]) # Pass Batch\n",
        "    loss = F.cross_entropy(preds, labels) # Calculate Loss\n",
        "\n",
        "    optimizer.zero_grad()\n",
        "    loss.backward() # Calculate Gradients\n",
        "    optimizer.step() # Update Weights\n",
        "\n",
        "    total_loss += loss.item()\n",
        "    total_correct += get_num_correct(preds, labels)\n",
        "\n",
        "    ohe_batch = 100*(idx + 1)\n",
        "\n",
        "print(\n",
        "    \"epoch:\", 0, \n",
        "    \"total_correct:\", total_correct, \n",
        "    \"loss:\", total_loss\n",
        ")"
      ],
      "execution_count": null,
      "outputs": []
    },
    {
      "cell_type": "code",
      "metadata": {
        "id": "3YGUVZipvu9a"
      },
      "source": [
        "train_loader = torch.utils.data.DataLoader(train_set, batch_size=100)\n",
        "optimizer = optim.Adam(network.parameters(), lr=0.01)\n",
        "\n",
        "for epoch in range(10):\n",
        "\n",
        "    total_loss = 0\n",
        "    total_correct = 0\n",
        "    ohe_batch = 0\n",
        "\n",
        "\n",
        "    for idx, batch in enumerate(train_loader): # Get Batch\n",
        "        images, labels = batch \n",
        "\n",
        "        preds = network(images, randomOHE[ohe_batch: (idx+1)*100,:]) # Pass Batch\n",
        "        loss = F.cross_entropy(preds, labels) # Calculate Loss\n",
        "\n",
        "        optimizer.zero_grad()\n",
        "        loss.backward() # Calculate Gradients\n",
        "        optimizer.step() # Update Weights\n",
        "\n",
        "        total_loss += loss.item()\n",
        "        total_correct += get_num_correct(preds, labels)\n",
        "\n",
        "        ohe_batch = 100*(idx + 1)\n",
        "\n",
        "    print(\n",
        "        \"epoch\", epoch, \n",
        "        \"total_correct:\", total_correct, \n",
        "        \"loss:\", total_loss\n",
        "    )"
      ],
      "execution_count": null,
      "outputs": []
    },
    {
      "cell_type": "markdown",
      "metadata": {
        "id": "7DTmTFyr18ck"
      },
      "source": [
        "Conv2 >> 12 * 4 * 4\n",
        "Conv2.reshape >> 192\n",
        "random_number input >> 10\n",
        "fc_rn (10, 20) >> 20\n",
        "concat_data = concatenation (192, 20)\n",
        "combined_data >> 212\n",
        "fc2(212) >> 100 << fc2_output\n",
        "Approach 1\n",
        "fc3(100) >> 10 + 19 OR 10 + 5 << out\n",
        "fc3(100) >> 19 OR 15 << out\n",
        "Approach 2\n",
        "fc3(fc2_output) >> 10 << MNIST VALUE\n",
        "fc4(fc2_output) >> 19/5 << SUM VALUE\n",
        "return MNIST_VALUE, SUM_VALUE\n",
        "\n",
        "return out\n",
        "\n",
        "loss_for_mnist out[:10]\n",
        "loss_for_sum out[10:]"
      ]
    },
    {
      "cell_type": "code",
      "metadata": {
        "id": "Rte4pX1FwLvz"
      },
      "source": [
        ""
      ],
      "execution_count": null,
      "outputs": []
    }
  ]
}